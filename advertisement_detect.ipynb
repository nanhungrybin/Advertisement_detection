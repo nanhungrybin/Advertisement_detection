{
  "cells": [
    {
      "cell_type": "markdown",
      "source": [
        "데이터를 라벨링해서 광고 classification modeling 할 수 있도록"
      ],
      "metadata": {
        "nteract": {
          "transient": {
            "deleting": false
          }
        }
      }
    },
    {
      "cell_type": "code",
      "source": [
        "import json\n",
        "import pandas as pd\n",
        "from sklearn.model_selection import train_test_split\n",
        "from transformers import BertTokenizer, BertForSequenceClassification, AdamW\n",
        "import torch\n",
        "from torch.utils.data import DataLoader, TensorDataset\n",
        "\n",
        "# JSON 파일 읽기\n",
        "def load_json(json_path):\n",
        "    with open(json_path, 'r', encoding='utf-8') as f:\n",
        "        data = json.load(f)\n",
        "    return data\n",
        "\n",
        "json_path = \"/home/azureuser/cloudfiles/code/Users/hb.suh/OUR_BERT/CODE/사출성형/Preprocessing_data/Blog/KOREAN/blog_naver_preprocessed.json\"\n",
        "\n",
        "json_data = load_json(json_path)\n",
        "# 데이터 프레임 생성\n",
        "df = pd.DataFrame(json_data)\n",
        "df['text'] = df['contents'].apply(lambda x: x['text'])\n",
        "df['label'] = df['advertisement'].apply(lambda x: 1 if x == \"TRUE\" else 0)\n",
        "\n",
        "# 데이터 분리\n",
        "X_train, X_test, y_train, y_test = train_test_split(df['text'], df['label'], test_size=0.2, random_state=42)"
      ],
      "outputs": [
        {
          "output_type": "stream",
          "name": "stderr",
          "text": "/anaconda/envs/llm-rag-embeddings/lib/python3.8/site-packages/tqdm/auto.py:21: TqdmWarning: IProgress not found. Please update jupyter and ipywidgets. See https://ipywidgets.readthedocs.io/en/stable/user_install.html\n  from .autonotebook import tqdm as notebook_tqdm\n"
        }
      ],
      "execution_count": 2,
      "metadata": {
        "gather": {
          "logged": 1716187346045
        }
      }
    },
    {
      "cell_type": "code",
      "source": [
        "from transformers import BertTokenizer\n",
        "import torch\n",
        "\n",
        "# 토크나이저 로드\n",
        "tokenizer = BertTokenizer.from_pretrained(\"beomi/kcbert-base\")\n",
        "\n",
        "# 토크나이저 함수 정의\n",
        "def tokenize_data(texts, labels, tokenizer, max_length=256):\n",
        "    input_ids = []\n",
        "    attention_masks = []\n",
        "\n",
        "    for text in texts:\n",
        "        encoded_dict = tokenizer.encode_plus(\n",
        "            text,\n",
        "            add_special_tokens=True,\n",
        "            max_length=max_length,\n",
        "            pad_to_max_length=True,\n",
        "            return_attention_mask=True,\n",
        "            return_tensors='pt',\n",
        "            truncation=True\n",
        "        )\n",
        "        input_ids.append(encoded_dict['input_ids'])\n",
        "        attention_masks.append(encoded_dict['attention_mask'])\n",
        "\n",
        "    input_ids = torch.cat(input_ids, dim=0)\n",
        "    attention_masks = torch.cat(attention_masks, dim=0)\n",
        "    #labels = torch.tensor(labels)\n",
        "    labels = torch.tensor(labels.values) \n",
        "\n",
        "    return input_ids, attention_masks, labels\n",
        "\n",
        "# 학습 및 테스트 데이터 토크나이징\n",
        "X_train_ids, X_train_masks, y_train_tensor = tokenize_data(X_train, y_train, tokenizer)\n",
        "X_test_ids, X_test_masks, y_test_tensor = tokenize_data(X_test, y_test, tokenizer)"
      ],
      "outputs": [],
      "execution_count": 5,
      "metadata": {
        "jupyter": {
          "source_hidden": false,
          "outputs_hidden": false
        },
        "nteract": {
          "transient": {
            "deleting": false
          }
        },
        "gather": {
          "logged": 1716187691743
        }
      }
    },
    {
      "cell_type": "code",
      "source": [
        "# 데이터 로더 준비\n",
        "\n",
        "batch_size = 16\n",
        "\n",
        "train_dataset = TensorDataset(X_train_ids, X_train_masks, y_train_tensor)\n",
        "train_dataloader = DataLoader(train_dataset, batch_size=batch_size, shuffle=True)\n",
        "\n",
        "test_dataset = TensorDataset(X_test_ids, X_test_masks, y_test_tensor)\n",
        "test_dataloader = DataLoader(test_dataset, batch_size=batch_size, shuffle=False)\n"
      ],
      "outputs": [],
      "execution_count": 6,
      "metadata": {
        "jupyter": {
          "source_hidden": false,
          "outputs_hidden": false
        },
        "nteract": {
          "transient": {
            "deleting": false
          }
        },
        "gather": {
          "logged": 1716187692617
        }
      }
    },
    {
      "cell_type": "code",
      "source": [
        "# 모델 구축 및 학습\n",
        "from transformers import BertForSequenceClassification\n",
        "\n",
        "# BERT 모델 로드\n",
        "model = BertForSequenceClassification.from_pretrained(\"beomi/kcbert-base\", num_labels=2)\n",
        "\n",
        "# 옵티마이저 설정\n",
        "optimizer = AdamW(model.parameters(), lr=2e-5)\n",
        "\n",
        "# GPU 사용 설정 (가능한 경우)\n",
        "device = torch.device('cuda' if torch.cuda.is_available() else 'cpu')\n",
        "model.to(device)"
      ],
      "outputs": [
        {
          "output_type": "stream",
          "name": "stderr",
          "text": "Some weights of BertForSequenceClassification were not initialized from the model checkpoint at beomi/kcbert-base and are newly initialized: ['classifier.bias', 'classifier.weight']\nYou should probably TRAIN this model on a down-stream task to be able to use it for predictions and inference.\n/anaconda/envs/llm-rag-embeddings/lib/python3.8/site-packages/transformers/optimization.py:521: FutureWarning: This implementation of AdamW is deprecated and will be removed in a future version. Use the PyTorch implementation torch.optim.AdamW instead, or set `no_deprecation_warning=True` to disable this warning\n  warnings.warn(\n"
        },
        {
          "output_type": "execute_result",
          "execution_count": 7,
          "data": {
            "text/plain": "BertForSequenceClassification(\n  (bert): BertModel(\n    (embeddings): BertEmbeddings(\n      (word_embeddings): Embedding(30000, 768, padding_idx=0)\n      (position_embeddings): Embedding(300, 768)\n      (token_type_embeddings): Embedding(2, 768)\n      (LayerNorm): LayerNorm((768,), eps=1e-12, elementwise_affine=True)\n      (dropout): Dropout(p=0.1, inplace=False)\n    )\n    (encoder): BertEncoder(\n      (layer): ModuleList(\n        (0-11): 12 x BertLayer(\n          (attention): BertAttention(\n            (self): BertSelfAttention(\n              (query): Linear(in_features=768, out_features=768, bias=True)\n              (key): Linear(in_features=768, out_features=768, bias=True)\n              (value): Linear(in_features=768, out_features=768, bias=True)\n              (dropout): Dropout(p=0.1, inplace=False)\n            )\n            (output): BertSelfOutput(\n              (dense): Linear(in_features=768, out_features=768, bias=True)\n              (LayerNorm): LayerNorm((768,), eps=1e-12, elementwise_affine=True)\n              (dropout): Dropout(p=0.1, inplace=False)\n            )\n          )\n          (intermediate): BertIntermediate(\n            (dense): Linear(in_features=768, out_features=3072, bias=True)\n            (intermediate_act_fn): GELUActivation()\n          )\n          (output): BertOutput(\n            (dense): Linear(in_features=3072, out_features=768, bias=True)\n            (LayerNorm): LayerNorm((768,), eps=1e-12, elementwise_affine=True)\n            (dropout): Dropout(p=0.1, inplace=False)\n          )\n        )\n      )\n    )\n    (pooler): BertPooler(\n      (dense): Linear(in_features=768, out_features=768, bias=True)\n      (activation): Tanh()\n    )\n  )\n  (dropout): Dropout(p=0.1, inplace=False)\n  (classifier): Linear(in_features=768, out_features=2, bias=True)\n)"
          },
          "metadata": {}
        }
      ],
      "execution_count": 7,
      "metadata": {
        "jupyter": {
          "source_hidden": false,
          "outputs_hidden": true
        },
        "nteract": {
          "transient": {
            "deleting": false
          }
        },
        "gather": {
          "logged": 1716187700388
        }
      }
    },
    {
      "cell_type": "code",
      "source": [
        "# 학습 함수 정의\n",
        "def train_model(model, train_dataloader, optimizer, device, num_epochs=10):\n",
        "    model.train()\n",
        "    for epoch in range(num_epochs):\n",
        "        total_loss = 0\n",
        "        for batch in train_dataloader:\n",
        "            b_input_ids, b_input_mask, b_labels = batch\n",
        "            b_input_ids = b_input_ids.to(device)\n",
        "            b_input_mask = b_input_mask.to(device)\n",
        "            b_labels = b_labels.to(device)\n",
        "\n",
        "            optimizer.zero_grad()\n",
        "\n",
        "            outputs = model(b_input_ids, token_type_ids=None, attention_mask=b_input_mask, labels=b_labels)\n",
        "            loss = outputs.loss\n",
        "            total_loss += loss.item()\n",
        "\n",
        "            loss.backward()\n",
        "            optimizer.step()\n",
        "\n",
        "        avg_loss = total_loss / len(train_dataloader)\n",
        "        print(f'Epoch {epoch + 1}/{num_epochs}, Loss: {avg_loss}')\n",
        "\n",
        "# 모델 학습\n",
        "train_model(model, train_dataloader, optimizer, device)\n"
      ],
      "outputs": [
        {
          "output_type": "stream",
          "name": "stdout",
          "text": "Epoch 1/10, Loss: 0.019439411039153736\nEpoch 2/10, Loss: 0.014116475358605385\nEpoch 3/10, Loss: 0.009192390056947866\nEpoch 4/10, Loss: 0.007614761435737212\nEpoch 5/10, Loss: 0.005610703645894925\nEpoch 6/10, Loss: 0.0050727858518560725\nEpoch 7/10, Loss: 0.004381177946925163\nEpoch 8/10, Loss: 0.003605213947594166\nEpoch 9/10, Loss: 0.0032880941095451512\nEpoch 10/10, Loss: 0.0029936484837283692\n"
        }
      ],
      "execution_count": 11,
      "metadata": {
        "jupyter": {
          "source_hidden": false,
          "outputs_hidden": false
        },
        "nteract": {
          "transient": {
            "deleting": false
          }
        },
        "gather": {
          "logged": 1716187750280
        }
      }
    },
    {
      "cell_type": "code",
      "source": [
        "from sklearn.metrics import precision_recall_fscore_support, confusion_matrix, ConfusionMatrixDisplay\n",
        "import matplotlib.pyplot as plt\n",
        "\n",
        "# 평가 함수 정의 (잘못 예측된 데이터 식별 포함)\n",
        "def evaluate_model(model, test_dataloader, device):\n",
        "    model.eval()\n",
        "    correct = 0\n",
        "    total = 0\n",
        "    all_labels = []\n",
        "    all_predictions = []\n",
        "    misclassified_samples = []  # 잘못 예측된 데이터 저장\n",
        "\n",
        "    with torch.no_grad():\n",
        "        for batch in test_dataloader:\n",
        "            b_input_ids, b_input_mask, b_labels = batch\n",
        "            b_input_ids = b_input_ids.to(device)\n",
        "            b_input_mask = b_input_mask.to(device)\n",
        "            b_labels = b_labels.to(device)\n",
        "\n",
        "            outputs = model(b_input_ids, token_type_ids=None, attention_mask=b_input_mask)\n",
        "            logits = outputs.logits\n",
        "            _, predicted = torch.max(logits, dim=1)\n",
        "            \n",
        "            total += b_labels.size(0)\n",
        "            correct += (predicted == b_labels).sum().item()\n",
        "            \n",
        "            all_labels.extend(b_labels.cpu().numpy())\n",
        "            all_predictions.extend(predicted.cpu().numpy())\n",
        "            \n",
        "            # 잘못 예측된 데이터 식별\n",
        "            for i in range(len(b_labels)):\n",
        "                if predicted[i] != b_labels[i]:\n",
        "                    misclassified_samples.append({\n",
        "                        'input_ids': b_input_ids[i].cpu().numpy(),\n",
        "                        'attention_mask': b_input_mask[i].cpu().numpy(),\n",
        "                        'label': b_labels[i].item(),\n",
        "                        'prediction': predicted[i].item()\n",
        "                    })\n",
        "\n",
        "    accuracy = correct / total\n",
        "    precision, recall, f1, _ = precision_recall_fscore_support(all_labels, all_predictions, average=None)\n",
        "    \n",
        "    print(f'Accuracy: {accuracy * 100:.2f}%')\n",
        "    print(f'Precision: {precision}')\n",
        "    print(f'Recall: {recall}')\n",
        "    print(f'F1-score: {f1}')\n",
        "    \n",
        "    # Confusion Matrix\n",
        "    cm = confusion_matrix(all_labels, all_predictions)\n",
        "    disp = ConfusionMatrixDisplay(confusion_matrix=cm)\n",
        "    disp.plot(cmap=plt.cm.Blues)\n",
        "    plt.show()\n",
        "    \n",
        "    # 잘못 예측된 데이터 출력\n",
        "    print(\"\\nMisclassified Samples:\")\n",
        "    for sample in misclassified_samples:\n",
        "        input_text = tokenizer.decode(sample['input_ids'], skip_special_tokens=True)\n",
        "        print(f\"Text: {input_text}\")\n",
        "        print(f\"Actual Label: {sample['label']}, Predicted Label: {sample['prediction']}\\n\")\n",
        "\n",
        "# 모델 평가\n",
        "evaluate_model(model, test_dataloader, device)\n"
      ],
      "outputs": [
        {
          "output_type": "stream",
          "name": "stdout",
          "text": "Accuracy: 84.62%\nPrecision: [0.85714286 0.83333333]\nRecall: [0.85714286 0.83333333]\nF1-score: [0.85714286 0.83333333]\n"
        },
        {
          "output_type": "display_data",
          "data": {
            "text/plain": "<Figure size 640x480 with 2 Axes>",
            "image/png": "[encoded data removed]"
          },
          "metadata": {}
        },
        {
          "output_type": "stream",
          "name": "stdout",
          "text": "\nMisclassified Samples:\nText: 우진플라임의 전동식 사출성형기 사출부 TE - G5 고강성 인라인 사출장치 사출하우징과 사출 볼스크류부 장치 부분을 하나의 부품 ( 주물 ) 으로 구성됩니다. 사출 베드 및 계량부 LM 가이드 적용합니다. 2. 스크류 피치와 길이 ( L / D : 20 / 1 에서 22 / 1 ) 향상된 가소화능력으로 빠르고 균일한 수지응용 및 쿠션 편차 비율 감소합니다. 3. 듀얼 풀 노즐터치 실린더 반복적인.\nActual Label: 0, Predicted Label: 1\n\nText: 추출은 자동화된 기계나 작업자가 하며 제품이 사출기에서 제거된 후, 추가적인 작업이 필요한 경우도 있습니다 ~! 오늘 소개해 드릴 제품은 160 / 170톤의 사출 성형기로 400g 이하의 제품을 생산할 수 있습니다. 고온과 냉각이 반복되며 지속적인 작업을 수행할 경우, 어떤 기계는 발열이 심해져 자칫하면 화재가 발생할 수 있는 위험성이 있습니다. 하지만 이 플라스틱.\nActual Label: 1, Predicted Label: 0\n\n"
        }
      ],
      "execution_count": 15,
      "metadata": {
        "jupyter": {
          "source_hidden": false,
          "outputs_hidden": false
        },
        "nteract": {
          "transient": {
            "deleting": false
          }
        },
        "gather": {
          "logged": 1716188747550
        }
      }
    },
    {
      "cell_type": "markdown",
      "source": [
        "# 예측 TESTING"
      ],
      "metadata": {
        "nteract": {
          "transient": {
            "deleting": false
          }
        }
      }
    },
    {
      "cell_type": "code",
      "source": [
        "import json\n",
        "import torch\n",
        "from transformers import BertTokenizer\n",
        "\n",
        "def predict_advertisement(model, tokenizer, text, device, max_length=256):\n",
        "    model.eval()\n",
        "    encoded_dict = tokenizer.encode_plus(\n",
        "        text,\n",
        "        add_special_tokens=True,\n",
        "        max_length=max_length,\n",
        "        pad_to_max_length=True,\n",
        "        return_attention_mask=True,\n",
        "        return_tensors='pt',\n",
        "        truncation=True\n",
        "    )\n",
        "    \n",
        "    input_ids = encoded_dict['input_ids'].to(device)\n",
        "    attention_mask = encoded_dict['attention_mask'].to(device)\n",
        "    \n",
        "    with torch.no_grad():\n",
        "        outputs = model(input_ids, token_type_ids=None, attention_mask=attention_mask)\n",
        "        logits = outputs.logits\n",
        "        _, predicted = torch.max(logits, dim=1)\n",
        "        \n",
        "    return 'TRUE' if predicted.item() == 1 else 'FALSE'\n",
        "\n",
        "# 새 JSON 데이터\n",
        "new_data = {\n",
        "    \"ID\": 59,\n",
        "    \"advertisement\": \"TRUE\",\n",
        "    \"contents\": {\n",
        "        \"title\": \"나주공장경매 나주시 왕곡면 덕산리 공장용지2426평 최저가48억 플라스틱\",\n",
        "        \"text\": \"오늘 소개하는 전라남도 나주시 왕곡면 덕산리에 소재하는 공장은 포장용 플라스틱 성형용기 제조, 금형플라스틱사출성형, 프레스가공 공장은 나주공장경매 나주시 왕곡면 덕산리 공장용지2426평 일반공업지역 최저가48억 플라스틱 제조공장에 대한 자세한 내용은 부동산전문 법률사무소 담당자에게 문의주시면 친절하게.\"\n",
        "    },\n",
        "    \"link\": \"https://goodauction.tistory.com/413\",\n",
        "    \"source\": \"naver_blog\",\n",
        "    \"date\": \"2024-04-02 16:16:58\",\n",
        "    \"language\": \"korean\"\n",
        "}\n",
        "\n",
        "# 예측 실행\n",
        "device = torch.device('cuda' if torch.cuda.is_available() else 'cpu')\n",
        "model.to(device)\n",
        "tokenizer = BertTokenizer.from_pretrained('beomi/kcbert-base')\n",
        "text = new_data['contents']['text']\n",
        "prediction = predict_advertisement(model, tokenizer, text, device)\n",
        "print(f'Predicted advertisement: {prediction}')\n"
      ],
      "outputs": [
        {
          "output_type": "stream",
          "name": "stdout",
          "text": "Predicted advertisement: TRUE\n"
        },
        {
          "output_type": "stream",
          "name": "stderr",
          "text": "/anaconda/envs/llm-rag-embeddings/lib/python3.8/site-packages/transformers/tokenization_utils_base.py:2674: FutureWarning: The `pad_to_max_length` argument is deprecated and will be removed in a future version, use `padding=True` or `padding='longest'` to pad to the longest sequence in the batch, or use `padding='max_length'` to pad to a max length. In this case, you can give a specific length with `max_length` (e.g. `max_length=45`) or leave max_length to None to pad to the maximal input size of the model (e.g. 512 for Bert).\n  warnings.warn(\n"
        }
      ],
      "execution_count": 14,
      "metadata": {
        "jupyter": {
          "source_hidden": false,
          "outputs_hidden": false
        },
        "nteract": {
          "transient": {
            "deleting": false
          }
        },
        "gather": {
          "logged": 1716188233651
        }
      }
    },
    {
      "cell_type": "code",
      "source": [],
      "outputs": [],
      "execution_count": null,
      "metadata": {
        "jupyter": {
          "source_hidden": false,
          "outputs_hidden": false
        },
        "nteract": {
          "transient": {
            "deleting": false
          }
        }
      }
    }
  ],
  "metadata": {
    "kernelspec": {
      "name": "llm-rag-embeddings",
      "language": "python",
      "display_name": "genai"
    },
    "language_info": {
      "name": "python",
      "version": "3.8.19",
      "mimetype": "text/x-python",
      "codemirror_mode": {
        "name": "ipython",
        "version": 3
      },
      "pygments_lexer": "ipython3",
      "nbconvert_exporter": "python",
      "file_extension": ".py"
    },
    "kernel_info": {
      "name": "llm-rag-embeddings"
    },
    "microsoft": {
      "host": {
        "AzureML": {
          "notebookHasBeenCompleted": true
        }
      }
    },
    "nteract": {
      "version": "nteract-front-end@1.0.0"
    }
  },
  "nbformat": 4,
  "nbformat_minor": 2
}